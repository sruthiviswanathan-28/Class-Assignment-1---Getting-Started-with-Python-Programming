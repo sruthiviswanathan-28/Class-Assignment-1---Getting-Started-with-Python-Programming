{
  "nbformat": 4,
  "nbformat_minor": 0,
  "metadata": {
    "colab": {
      "name": "Untitled3.ipynb",
      "provenance": [],
      "authorship_tag": "ABX9TyOIUiStSbMa5eMml8xXHjta",
      "include_colab_link": true
    },
    "kernelspec": {
      "name": "python3",
      "display_name": "Python 3"
    }
  },
  "cells": [
    {
      "cell_type": "markdown",
      "metadata": {
        "id": "view-in-github",
        "colab_type": "text"
      },
      "source": [
        "<a href=\"https://colab.research.google.com/github/sruthiviswanathan-28/Class-Assignment-1---Getting-Started-with-Python-Programming/blob/master/Untitled3.ipynb\" target=\"_parent\"><img src=\"https://colab.research.google.com/assets/colab-badge.svg\" alt=\"Open In Colab\"/></a>"
      ]
    },
    {
      "cell_type": "code",
      "metadata": {
        "id": "TcGYqESRFNUZ"
      },
      "source": [
        ""
      ],
      "execution_count": null,
      "outputs": []
    },
    {
      "cell_type": "markdown",
      "metadata": {
        "id": "gtwV2jHwFOcH"
      },
      "source": [
        "1. Write a program to read numbers sorted in one file and store the sorted numbers in\n",
        " another file after deleting duplicates.\n"
      ]
    },
    {
      "cell_type": "code",
      "metadata": {
        "id": "jq8yFbHtFaSG",
        "outputId": "f34cf777-83b9-4a3e-9d3e-9b01a19169e8",
        "colab": {
          "base_uri": "https://localhost:8080/"
        }
      },
      "source": [
        " import pickle\n",
        " f =open(\"n.txt\",\"w\")\n",
        " n = [8,3,9,1,2]\n",
        " s = pickle.dumps(n)\n",
        " f.close()\n",
        " f =open(\"n.txt\",\"r\")\n",
        " t = pickle.loads(s)\n",
        " t.sort()\n",
        " cp =[]\n",
        " for a in t:\n",
        "      if a not in cp: \n",
        "        cp.append(a)\n",
        " print(cp)"
      ],
      "execution_count": 1,
      "outputs": [
        {
          "output_type": "stream",
          "text": [
            "[1, 2, 3, 8, 9]\n"
          ],
          "name": "stdout"
        }
      ]
    },
    {
      "cell_type": "code",
      "metadata": {
        "id": "3ydcfdPIHpoT",
        "outputId": "eb2d6a94-2b44-4f68-ee02-030fcf4d1f23",
        "colab": {
          "base_uri": "https://localhost:8080/",
          "height": 128
        }
      },
      "source": [
        "str = \",\".join(str(i) for i in cp)\n",
        "    f.close()\n",
        "    f =open(\"n.txt\",\"w\")\n",
        "    f.write(str)"
      ],
      "execution_count": 7,
      "outputs": [
        {
          "output_type": "error",
          "ename": "IndentationError",
          "evalue": "ignored",
          "traceback": [
            "\u001b[0;36m  File \u001b[0;32m\"<ipython-input-7-0c23d5527e97>\"\u001b[0;36m, line \u001b[0;32m2\u001b[0m\n\u001b[0;31m    f.close()\u001b[0m\n\u001b[0m    ^\u001b[0m\n\u001b[0;31mIndentationError\u001b[0m\u001b[0;31m:\u001b[0m unexpected indent\n"
          ]
        }
      ]
    },
    {
      "cell_type": "code",
      "metadata": {
        "id": "e2lxSldKIva8",
        "outputId": "c68e2afa-55f1-4622-a9a7-8d93c7013bcc",
        "colab": {
          "base_uri": "https://localhost:8080/"
        }
      },
      "source": [
        "def copyfile(oldfile,newfile):\n",
        "  f1 = open(oldfile,\"r\")\n",
        "  f2 = open(newfile,\"w\")\n",
        "  while True:\n",
        "    text=f1.read(50)\n",
        "    if text==\"\":\n",
        "      break\n",
        "    f2.write(text) \n",
        "  f1.close\n",
        "  f2.close\n",
        "  return\n",
        "copyfile(\"n.txt\",\"t.txt\")\n",
        "newfile=open(\"t.txt\",\"r\")   \n",
        "print(newfile.read())"
      ],
      "execution_count": 6,
      "outputs": [
        {
          "output_type": "stream",
          "text": [
            "\n"
          ],
          "name": "stdout"
        }
      ]
    }
  ]
}