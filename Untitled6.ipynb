{
  "nbformat": 4,
  "nbformat_minor": 0,
  "metadata": {
    "colab": {
      "name": "Untitled6.ipynb",
      "provenance": [],
      "authorship_tag": "ABX9TyPM5uvqtBAxjJuUMyNB6roC",
      "include_colab_link": true
    },
    "kernelspec": {
      "name": "python3",
      "display_name": "Python 3"
    }
  },
  "cells": [
    {
      "cell_type": "markdown",
      "metadata": {
        "id": "view-in-github",
        "colab_type": "text"
      },
      "source": [
        "<a href=\"https://colab.research.google.com/github/sruthiviswanathan-28/Class-Assignment-1---Getting-Started-with-Python-Programming/blob/master/Untitled6.ipynb\" target=\"_parent\"><img src=\"https://colab.research.google.com/assets/colab-badge.svg\" alt=\"Open In Colab\"/></a>"
      ]
    },
    {
      "cell_type": "code",
      "metadata": {
        "id": "32ObN3DNW1Q7"
      },
      "source": [
        ""
      ],
      "execution_count": null,
      "outputs": []
    },
    {
      "cell_type": "markdown",
      "metadata": {
        "id": "IykksS-vW47W"
      },
      "source": [
        "1. Write a program to read numbers sorted in one file and store the sorted numbers in\n",
        " another file after deleting duplicates."
      ]
    },
    {
      "cell_type": "code",
      "metadata": {
        "id": "mUN4D3wSW6dF",
        "outputId": "b3bb04a7-0aa3-4c29-9c1d-0df853acf8ae",
        "colab": {
          "base_uri": "https://localhost:8080/"
        }
      },
      "source": [
        " import pickle\n",
        " f =open(\"n.txt\",\"w\")\n",
        " n = [8,3,9,1,2]\n",
        " s = pickle.dumps(n)\n",
        " f.close()\n",
        " f =open(\"n.txt\",\"r\")\n",
        " t = pickle.loads(s)\n",
        " t.sort()\n",
        " cp =[]\n",
        " for a in t:\n",
        "      if a not in cp: \n",
        "        cp.append(a)\n",
        " print(cp)"
      ],
      "execution_count": 1,
      "outputs": [
        {
          "output_type": "stream",
          "text": [
            "[1, 2, 3, 8, 9]\n"
          ],
          "name": "stdout"
        }
      ]
    },
    {
      "cell_type": "code",
      "metadata": {
        "id": "bVXbm7qgXK0R",
        "outputId": "0e49e2da-0a3d-4a4a-ecd8-8ca9d33518c2",
        "colab": {
          "base_uri": "https://localhost:8080/"
        }
      },
      "source": [
        " str = \",\".join(str(i) for i in cp)\n",
        " f.close()\n",
        " f =open(\"n.txt\",\"w\")\n",
        " f.write(str)"
      ],
      "execution_count": 3,
      "outputs": [
        {
          "output_type": "execute_result",
          "data": {
            "text/plain": [
              "9"
            ]
          },
          "metadata": {
            "tags": []
          },
          "execution_count": 3
        }
      ]
    },
    {
      "cell_type": "code",
      "metadata": {
        "id": "KWPmg53mXRgV"
      },
      "source": [
        "f.close()"
      ],
      "execution_count": null,
      "outputs": []
    },
    {
      "cell_type": "code",
      "metadata": {
        "id": "sYcRlv0UXUXl",
        "outputId": "74d97c8d-c98e-446a-ce79-6955756cc214",
        "colab": {
          "base_uri": "https://localhost:8080/"
        }
      },
      "source": [
        "def copyfile(oldfile,newfile):\n",
        "  f1 = open(oldfile,\"r\")\n",
        "  f2 = open(newfile,\"w\")\n",
        "  while True:\n",
        "    text=f1.read(50)\n",
        "    if text==\"\":\n",
        "      break\n",
        "    f2.write(text) \n",
        "  f1.close\n",
        "  f2.close\n",
        "  return\n",
        "copyfile(\"n.txt\",\"t.txt\")\n",
        "newfile=open(\"t.txt\",\"r\")   \n",
        "print(newfile.read())"
      ],
      "execution_count": 5,
      "outputs": [
        {
          "output_type": "stream",
          "text": [
            "\n"
          ],
          "name": "stdout"
        }
      ]
    },
    {
      "cell_type": "markdown",
      "metadata": {
        "id": "AR47zAJrXpfU"
      },
      "source": [
        "2. Write a Python code to read a text file, copy the contents to another file after\n",
        "removing the blank lines.\n"
      ]
    },
    {
      "cell_type": "code",
      "metadata": {
        "id": "ReVfFEm2Xo_9",
        "outputId": "ef255fa3-6a37-442b-ff99-9eb251907b06",
        "colab": {
          "base_uri": "https://localhost:8080/"
        }
      },
      "source": [
        "file1 = open(\"file1.txt\",\"w\")\n",
        "file1.write(\"line1 \\n\\n line2\")\n"
      ],
      "execution_count": 7,
      "outputs": [
        {
          "output_type": "execute_result",
          "data": {
            "text/plain": [
              "14"
            ]
          },
          "metadata": {
            "tags": []
          },
          "execution_count": 7
        }
      ]
    },
    {
      "cell_type": "code",
      "metadata": {
        "id": "fbFcYG6BXk1f",
        "outputId": "eabe02a5-3a1c-4a53-cdeb-5b417cf18263",
        "colab": {
          "base_uri": "https://localhost:8080/"
        }
      },
      "source": [
        " file1.close()\n",
        " file1 = open(\"file1.txt\",\"r\")\n",
        " str = file1.read()\n",
        " str1 = str.replace(\"\\n\\n\",\"\")\n",
        " print(str)\n",
        "\n"
      ],
      "execution_count": 8,
      "outputs": [
        {
          "output_type": "stream",
          "text": [
            "line1 \n",
            "\n",
            " line2\n"
          ],
          "name": "stdout"
        }
      ]
    },
    {
      "cell_type": "code",
      "metadata": {
        "id": "K1pofDVuX5EX",
        "outputId": "91700d7c-ac2c-4641-d96e-0be3799803aa",
        "colab": {
          "base_uri": "https://localhost:8080/"
        }
      },
      "source": [
        "print(str1)"
      ],
      "execution_count": 9,
      "outputs": [
        {
          "output_type": "stream",
          "text": [
            "line1  line2\n"
          ],
          "name": "stdout"
        }
      ]
    },
    {
      "cell_type": "code",
      "metadata": {
        "id": "-urC3aFpX9az",
        "outputId": "0f8558f1-efbe-45aa-f5e0-063e83221946",
        "colab": {
          "base_uri": "https://localhost:8080/"
        }
      },
      "source": [
        " file1.close()\n",
        " file1 = open(\"file1.txt\",\"w\")\n",
        " file1.write(str1)\n"
      ],
      "execution_count": 10,
      "outputs": [
        {
          "output_type": "execute_result",
          "data": {
            "text/plain": [
              "12"
            ]
          },
          "metadata": {
            "tags": []
          },
          "execution_count": 10
        }
      ]
    },
    {
      "cell_type": "code",
      "metadata": {
        "id": "4zx1U5mdYCMq",
        "outputId": "d8864401-0f44-4fa8-ee49-b1786a6f136c",
        "colab": {
          "base_uri": "https://localhost:8080/"
        }
      },
      "source": [
        " file1.close()\n",
        "def copyFile(oldFile, newFile):\n",
        "  f1 = open(oldFile, \"r\")\n",
        "  f2 = open(newFile, \"w\")\n",
        "  while True:\n",
        "        text = f1.read(50)\n",
        "        if text == \"\":\n",
        "          break\n",
        "        f2.write(text)\n",
        "  f1.close()\n",
        "  f2.close()\n",
        "  return\n",
        "\n",
        "copyFile(\"file1.txt\",\"file2.txt\")\n",
        "\n",
        " file2 = open(\"file2.txt\",\"r\")\n",
        " print(file2.read())\n"
      ],
      "execution_count": 12,
      "outputs": [
        {
          "output_type": "stream",
          "text": [
            "line1  line2\n"
          ],
          "name": "stdout"
        }
      ]
    }
  ]
}